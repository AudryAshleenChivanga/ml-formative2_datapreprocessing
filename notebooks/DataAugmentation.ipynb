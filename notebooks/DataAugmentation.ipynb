{
  "cells": [
    {
      "cell_type": "markdown",
      "metadata": {
        "id": "8J-AprXqNMdR"
      },
      "source": [
        "# **Code for data augmentation (Part 1).**"
      ]
    },
    {
      "cell_type": "markdown",
      "metadata": {
        "id": "kOoN6Fojx3uH"
      },
      "source": [
        "**STEP 1 : Loading the dataset**"
      ]
    },
    {
      "cell_type": "markdown",
      "source": [
        "Importing necessary libraries"
      ],
      "metadata": {
        "id": "1EhJ83dglMsC"
      }
    },
    {
      "cell_type": "code",
      "execution_count": null,
      "metadata": {
        "id": "lVX2PTZnunIW"
      },
      "outputs": [],
      "source": [
        "import pandas as pd\n",
        "import numpy as np\n",
        "import matplotlib.pyplot as plt\n",
        "import seaborn as sns\n",
        "from sklearn.impute import SimpleImputer, KNNImputer\n",
        "from imblearn.over_sampling import SMOTE\n",
        "from sklearn.preprocessing import PowerTransformer, MinMaxScaler\n",
        "\n",
        "from sklearn.preprocessing import MinMaxScaler\n",
        "from sklearn.feature_extraction.text import TfidfVectorizer\n",
        "import seaborn as sns\n"
      ]
    },
    {
      "cell_type": "markdown",
      "source": [
        "Loading dataset"
      ],
      "metadata": {
        "id": "7esF-__hlRbm"
      }
    },
    {
      "cell_type": "code",
      "execution_count": null,
      "metadata": {
        "colab": {
          "base_uri": "https://localhost:8080/",
          "height": 226
        },
        "id": "LxgR_M9VRb6-",
        "outputId": "d289844a-59fc-4599-d530-59cf92e80c75"
      },
      "outputs": [
        {
          "output_type": "execute_result",
          "data": {
            "text/plain": [
              "   customer_id_legacy  transaction_id  purchase_amount purchase_date  \\\n",
              "0                 151            1001              408    2024-01-01   \n",
              "1                 192            1002              332    2024-01-02   \n",
              "2                 114            1003              442    2024-01-03   \n",
              "3                 171            1004              256    2024-01-04   \n",
              "4                 160            1005               64    2024-01-05   \n",
              "\n",
              "  product_category  customer_rating  \n",
              "0           Sports              2.3  \n",
              "1      Electronics              4.2  \n",
              "2      Electronics              2.1  \n",
              "3         Clothing              2.8  \n",
              "4         Clothing              1.3  "
            ],
            "text/html": [
              "\n",
              "  <div id=\"df-345bdb36-0db9-4072-b68d-2de2df6520d0\" class=\"colab-df-container\">\n",
              "    <div>\n",
              "<style scoped>\n",
              "    .dataframe tbody tr th:only-of-type {\n",
              "        vertical-align: middle;\n",
              "    }\n",
              "\n",
              "    .dataframe tbody tr th {\n",
              "        vertical-align: top;\n",
              "    }\n",
              "\n",
              "    .dataframe thead th {\n",
              "        text-align: right;\n",
              "    }\n",
              "</style>\n",
              "<table border=\"1\" class=\"dataframe\">\n",
              "  <thead>\n",
              "    <tr style=\"text-align: right;\">\n",
              "      <th></th>\n",
              "      <th>customer_id_legacy</th>\n",
              "      <th>transaction_id</th>\n",
              "      <th>purchase_amount</th>\n",
              "      <th>purchase_date</th>\n",
              "      <th>product_category</th>\n",
              "      <th>customer_rating</th>\n",
              "    </tr>\n",
              "  </thead>\n",
              "  <tbody>\n",
              "    <tr>\n",
              "      <th>0</th>\n",
              "      <td>151</td>\n",
              "      <td>1001</td>\n",
              "      <td>408</td>\n",
              "      <td>2024-01-01</td>\n",
              "      <td>Sports</td>\n",
              "      <td>2.3</td>\n",
              "    </tr>\n",
              "    <tr>\n",
              "      <th>1</th>\n",
              "      <td>192</td>\n",
              "      <td>1002</td>\n",
              "      <td>332</td>\n",
              "      <td>2024-01-02</td>\n",
              "      <td>Electronics</td>\n",
              "      <td>4.2</td>\n",
              "    </tr>\n",
              "    <tr>\n",
              "      <th>2</th>\n",
              "      <td>114</td>\n",
              "      <td>1003</td>\n",
              "      <td>442</td>\n",
              "      <td>2024-01-03</td>\n",
              "      <td>Electronics</td>\n",
              "      <td>2.1</td>\n",
              "    </tr>\n",
              "    <tr>\n",
              "      <th>3</th>\n",
              "      <td>171</td>\n",
              "      <td>1004</td>\n",
              "      <td>256</td>\n",
              "      <td>2024-01-04</td>\n",
              "      <td>Clothing</td>\n",
              "      <td>2.8</td>\n",
              "    </tr>\n",
              "    <tr>\n",
              "      <th>4</th>\n",
              "      <td>160</td>\n",
              "      <td>1005</td>\n",
              "      <td>64</td>\n",
              "      <td>2024-01-05</td>\n",
              "      <td>Clothing</td>\n",
              "      <td>1.3</td>\n",
              "    </tr>\n",
              "  </tbody>\n",
              "</table>\n",
              "</div>\n",
              "    <div class=\"colab-df-buttons\">\n",
              "\n",
              "  <div class=\"colab-df-container\">\n",
              "    <button class=\"colab-df-convert\" onclick=\"convertToInteractive('df-345bdb36-0db9-4072-b68d-2de2df6520d0')\"\n",
              "            title=\"Convert this dataframe to an interactive table.\"\n",
              "            style=\"display:none;\">\n",
              "\n",
              "  <svg xmlns=\"http://www.w3.org/2000/svg\" height=\"24px\" viewBox=\"0 -960 960 960\">\n",
              "    <path d=\"M120-120v-720h720v720H120Zm60-500h600v-160H180v160Zm220 220h160v-160H400v160Zm0 220h160v-160H400v160ZM180-400h160v-160H180v160Zm440 0h160v-160H620v160ZM180-180h160v-160H180v160Zm440 0h160v-160H620v160Z\"/>\n",
              "  </svg>\n",
              "    </button>\n",
              "\n",
              "  <style>\n",
              "    .colab-df-container {\n",
              "      display:flex;\n",
              "      gap: 12px;\n",
              "    }\n",
              "\n",
              "    .colab-df-convert {\n",
              "      background-color: #E8F0FE;\n",
              "      border: none;\n",
              "      border-radius: 50%;\n",
              "      cursor: pointer;\n",
              "      display: none;\n",
              "      fill: #1967D2;\n",
              "      height: 32px;\n",
              "      padding: 0 0 0 0;\n",
              "      width: 32px;\n",
              "    }\n",
              "\n",
              "    .colab-df-convert:hover {\n",
              "      background-color: #E2EBFA;\n",
              "      box-shadow: 0px 1px 2px rgba(60, 64, 67, 0.3), 0px 1px 3px 1px rgba(60, 64, 67, 0.15);\n",
              "      fill: #174EA6;\n",
              "    }\n",
              "\n",
              "    .colab-df-buttons div {\n",
              "      margin-bottom: 4px;\n",
              "    }\n",
              "\n",
              "    [theme=dark] .colab-df-convert {\n",
              "      background-color: #3B4455;\n",
              "      fill: #D2E3FC;\n",
              "    }\n",
              "\n",
              "    [theme=dark] .colab-df-convert:hover {\n",
              "      background-color: #434B5C;\n",
              "      box-shadow: 0px 1px 3px 1px rgba(0, 0, 0, 0.15);\n",
              "      filter: drop-shadow(0px 1px 2px rgba(0, 0, 0, 0.3));\n",
              "      fill: #FFFFFF;\n",
              "    }\n",
              "  </style>\n",
              "\n",
              "    <script>\n",
              "      const buttonEl =\n",
              "        document.querySelector('#df-345bdb36-0db9-4072-b68d-2de2df6520d0 button.colab-df-convert');\n",
              "      buttonEl.style.display =\n",
              "        google.colab.kernel.accessAllowed ? 'block' : 'none';\n",
              "\n",
              "      async function convertToInteractive(key) {\n",
              "        const element = document.querySelector('#df-345bdb36-0db9-4072-b68d-2de2df6520d0');\n",
              "        const dataTable =\n",
              "          await google.colab.kernel.invokeFunction('convertToInteractive',\n",
              "                                                    [key], {});\n",
              "        if (!dataTable) return;\n",
              "\n",
              "        const docLinkHtml = 'Like what you see? Visit the ' +\n",
              "          '<a target=\"_blank\" href=https://colab.research.google.com/notebooks/data_table.ipynb>data table notebook</a>'\n",
              "          + ' to learn more about interactive tables.';\n",
              "        element.innerHTML = '';\n",
              "        dataTable['output_type'] = 'display_data';\n",
              "        await google.colab.output.renderOutput(dataTable, element);\n",
              "        const docLink = document.createElement('div');\n",
              "        docLink.innerHTML = docLinkHtml;\n",
              "        element.appendChild(docLink);\n",
              "      }\n",
              "    </script>\n",
              "  </div>\n",
              "\n",
              "\n",
              "<div id=\"df-2f8b94eb-297f-497d-8ac3-a3ae7336bfdf\">\n",
              "  <button class=\"colab-df-quickchart\" onclick=\"quickchart('df-2f8b94eb-297f-497d-8ac3-a3ae7336bfdf')\"\n",
              "            title=\"Suggest charts\"\n",
              "            style=\"display:none;\">\n",
              "\n",
              "<svg xmlns=\"http://www.w3.org/2000/svg\" height=\"24px\"viewBox=\"0 0 24 24\"\n",
              "     width=\"24px\">\n",
              "    <g>\n",
              "        <path d=\"M19 3H5c-1.1 0-2 .9-2 2v14c0 1.1.9 2 2 2h14c1.1 0 2-.9 2-2V5c0-1.1-.9-2-2-2zM9 17H7v-7h2v7zm4 0h-2V7h2v10zm4 0h-2v-4h2v4z\"/>\n",
              "    </g>\n",
              "</svg>\n",
              "  </button>\n",
              "\n",
              "<style>\n",
              "  .colab-df-quickchart {\n",
              "      --bg-color: #E8F0FE;\n",
              "      --fill-color: #1967D2;\n",
              "      --hover-bg-color: #E2EBFA;\n",
              "      --hover-fill-color: #174EA6;\n",
              "      --disabled-fill-color: #AAA;\n",
              "      --disabled-bg-color: #DDD;\n",
              "  }\n",
              "\n",
              "  [theme=dark] .colab-df-quickchart {\n",
              "      --bg-color: #3B4455;\n",
              "      --fill-color: #D2E3FC;\n",
              "      --hover-bg-color: #434B5C;\n",
              "      --hover-fill-color: #FFFFFF;\n",
              "      --disabled-bg-color: #3B4455;\n",
              "      --disabled-fill-color: #666;\n",
              "  }\n",
              "\n",
              "  .colab-df-quickchart {\n",
              "    background-color: var(--bg-color);\n",
              "    border: none;\n",
              "    border-radius: 50%;\n",
              "    cursor: pointer;\n",
              "    display: none;\n",
              "    fill: var(--fill-color);\n",
              "    height: 32px;\n",
              "    padding: 0;\n",
              "    width: 32px;\n",
              "  }\n",
              "\n",
              "  .colab-df-quickchart:hover {\n",
              "    background-color: var(--hover-bg-color);\n",
              "    box-shadow: 0 1px 2px rgba(60, 64, 67, 0.3), 0 1px 3px 1px rgba(60, 64, 67, 0.15);\n",
              "    fill: var(--button-hover-fill-color);\n",
              "  }\n",
              "\n",
              "  .colab-df-quickchart-complete:disabled,\n",
              "  .colab-df-quickchart-complete:disabled:hover {\n",
              "    background-color: var(--disabled-bg-color);\n",
              "    fill: var(--disabled-fill-color);\n",
              "    box-shadow: none;\n",
              "  }\n",
              "\n",
              "  .colab-df-spinner {\n",
              "    border: 2px solid var(--fill-color);\n",
              "    border-color: transparent;\n",
              "    border-bottom-color: var(--fill-color);\n",
              "    animation:\n",
              "      spin 1s steps(1) infinite;\n",
              "  }\n",
              "\n",
              "  @keyframes spin {\n",
              "    0% {\n",
              "      border-color: transparent;\n",
              "      border-bottom-color: var(--fill-color);\n",
              "      border-left-color: var(--fill-color);\n",
              "    }\n",
              "    20% {\n",
              "      border-color: transparent;\n",
              "      border-left-color: var(--fill-color);\n",
              "      border-top-color: var(--fill-color);\n",
              "    }\n",
              "    30% {\n",
              "      border-color: transparent;\n",
              "      border-left-color: var(--fill-color);\n",
              "      border-top-color: var(--fill-color);\n",
              "      border-right-color: var(--fill-color);\n",
              "    }\n",
              "    40% {\n",
              "      border-color: transparent;\n",
              "      border-right-color: var(--fill-color);\n",
              "      border-top-color: var(--fill-color);\n",
              "    }\n",
              "    60% {\n",
              "      border-color: transparent;\n",
              "      border-right-color: var(--fill-color);\n",
              "    }\n",
              "    80% {\n",
              "      border-color: transparent;\n",
              "      border-right-color: var(--fill-color);\n",
              "      border-bottom-color: var(--fill-color);\n",
              "    }\n",
              "    90% {\n",
              "      border-color: transparent;\n",
              "      border-bottom-color: var(--fill-color);\n",
              "    }\n",
              "  }\n",
              "</style>\n",
              "\n",
              "  <script>\n",
              "    async function quickchart(key) {\n",
              "      const quickchartButtonEl =\n",
              "        document.querySelector('#' + key + ' button');\n",
              "      quickchartButtonEl.disabled = true;  // To prevent multiple clicks.\n",
              "      quickchartButtonEl.classList.add('colab-df-spinner');\n",
              "      try {\n",
              "        const charts = await google.colab.kernel.invokeFunction(\n",
              "            'suggestCharts', [key], {});\n",
              "      } catch (error) {\n",
              "        console.error('Error during call to suggestCharts:', error);\n",
              "      }\n",
              "      quickchartButtonEl.classList.remove('colab-df-spinner');\n",
              "      quickchartButtonEl.classList.add('colab-df-quickchart-complete');\n",
              "    }\n",
              "    (() => {\n",
              "      let quickchartButtonEl =\n",
              "        document.querySelector('#df-2f8b94eb-297f-497d-8ac3-a3ae7336bfdf button');\n",
              "      quickchartButtonEl.style.display =\n",
              "        google.colab.kernel.accessAllowed ? 'block' : 'none';\n",
              "    })();\n",
              "  </script>\n",
              "</div>\n",
              "\n",
              "    </div>\n",
              "  </div>\n"
            ],
            "application/vnd.google.colaboratory.intrinsic+json": {
              "type": "dataframe",
              "variable_name": "df",
              "summary": "{\n  \"name\": \"df\",\n  \"rows\": 150,\n  \"fields\": [\n    {\n      \"column\": \"customer_id_legacy\",\n      \"properties\": {\n        \"dtype\": \"number\",\n        \"std\": 30,\n        \"min\": 100,\n        \"max\": 199,\n        \"num_unique_values\": 75,\n        \"samples\": [\n          160,\n          128,\n          199\n        ],\n        \"semantic_type\": \"\",\n        \"description\": \"\"\n      }\n    },\n    {\n      \"column\": \"transaction_id\",\n      \"properties\": {\n        \"dtype\": \"number\",\n        \"std\": 43,\n        \"min\": 1001,\n        \"max\": 1150,\n        \"num_unique_values\": 150,\n        \"samples\": [\n          1074,\n          1019,\n          1119\n        ],\n        \"semantic_type\": \"\",\n        \"description\": \"\"\n      }\n    },\n    {\n      \"column\": \"purchase_amount\",\n      \"properties\": {\n        \"dtype\": \"number\",\n        \"std\": 121,\n        \"min\": 51,\n        \"max\": 495,\n        \"num_unique_values\": 120,\n        \"samples\": [\n          397,\n          434,\n          64\n        ],\n        \"semantic_type\": \"\",\n        \"description\": \"\"\n      }\n    },\n    {\n      \"column\": \"purchase_date\",\n      \"properties\": {\n        \"dtype\": \"object\",\n        \"num_unique_values\": 150,\n        \"samples\": [\n          \"2024-03-14\",\n          \"2024-01-19\",\n          \"2024-04-28\"\n        ],\n        \"semantic_type\": \"\",\n        \"description\": \"\"\n      }\n    },\n    {\n      \"column\": \"product_category\",\n      \"properties\": {\n        \"dtype\": \"category\",\n        \"num_unique_values\": 5,\n        \"samples\": [\n          \"Electronics\",\n          \"Books\",\n          \"Clothing\"\n        ],\n        \"semantic_type\": \"\",\n        \"description\": \"\"\n      }\n    },\n    {\n      \"column\": \"customer_rating\",\n      \"properties\": {\n        \"dtype\": \"number\",\n        \"std\": 1.2069895364116432,\n        \"min\": 1.0,\n        \"max\": 5.0,\n        \"num_unique_values\": 37,\n        \"samples\": [\n          4.0,\n          3.2,\n          1.3\n        ],\n        \"semantic_type\": \"\",\n        \"description\": \"\"\n      }\n    }\n  ]\n}"
            }
          },
          "metadata": {},
          "execution_count": 106
        }
      ],
      "source": [
        "df = pd.read_csv(\"/customer_transactions.csv\")\n",
        "df.head()"
      ]
    },
    {
      "cell_type": "markdown",
      "metadata": {
        "id": "QPJ0H1hDv-cs"
      },
      "source": [
        "**Step 2: Data Cleaning & Handling Missing Values**"
      ]
    },
    {
      "cell_type": "code",
      "execution_count": null,
      "metadata": {
        "colab": {
          "base_uri": "https://localhost:8080/"
        },
        "id": "LBEIMRnHv35U",
        "outputId": "db0487eb-2ad2-49d8-b640-4b6ac7ab7c1a"
      },
      "outputs": [
        {
          "output_type": "stream",
          "name": "stdout",
          "text": [
            "Missing values per column:\n",
            " customer_id_legacy     0\n",
            "transaction_id         0\n",
            "purchase_amount        0\n",
            "purchase_date          0\n",
            "product_category       0\n",
            "customer_rating       10\n",
            "dtype: int64\n"
          ]
        }
      ],
      "source": [
        "# Identify missing values\n",
        "missing_values = df.isnull().sum()\n",
        "print(\"Missing values per column:\\n\", missing_values)"
      ]
    },
    {
      "cell_type": "markdown",
      "metadata": {
        "id": "9Krhh7DOw2gm"
      },
      "source": [
        "From the above results we obltained,the only column with missing values is customer_rating (10 missing values).To solve this , l will fill in missing values with mean."
      ]
    },
    {
      "cell_type": "markdown",
      "metadata": {
        "id": "httjErvV4u9i"
      },
      "source": [
        "Handling The Missing Values"
      ]
    },
    {
      "cell_type": "code",
      "execution_count": null,
      "metadata": {
        "colab": {
          "base_uri": "https://localhost:8080/"
        },
        "id": "4CPlgZMuwNlT",
        "outputId": "9f3ae05e-77c1-4ddb-da8b-a807e21261b3"
      },
      "outputs": [
        {
          "output_type": "stream",
          "name": "stdout",
          "text": [
            "Filled missing customer_rating with mean value.\n",
            "Missing values after mean imputation:\n",
            "customer_id_legacy    0\n",
            "transaction_id        0\n",
            "purchase_amount       0\n",
            "purchase_date         0\n",
            "product_category      0\n",
            "customer_rating       0\n",
            "dtype: int64\n"
          ]
        }
      ],
      "source": [
        "# Mean imputation for numerical column 'customer_rating'\n",
        "if df['customer_rating'].isnull().sum() > 0:\n",
        "    df['customer_rating'] = df['customer_rating'].fillna(df['customer_rating'].mean())\n",
        "    print(\"Filled missing customer_rating with mean value.\")\n",
        "print(\"Missing values after mean imputation:\")\n",
        "print(df.isnull().sum())"
      ]
    },
    {
      "cell_type": "code",
      "execution_count": null,
      "metadata": {
        "colab": {
          "base_uri": "https://localhost:8080/"
        },
        "id": "fEcS_pMvT4iL",
        "outputId": "25eff8a9-92cd-4bb8-bde0-3938bbb92402"
      },
      "outputs": [
        {
          "output_type": "stream",
          "name": "stdout",
          "text": [
            "Missing values after median imputation:\n",
            "customer_id_legacy    0\n",
            "transaction_id        0\n",
            "purchase_amount       0\n",
            "purchase_date         0\n",
            "product_category      0\n",
            "customer_rating       0\n",
            "dtype: int64\n"
          ]
        }
      ],
      "source": [
        "# Median imputation for 'purchase_amount'\n",
        "if df['purchase_amount'].isnull().sum() > 0:\n",
        "    df['purchase_amount'] = df['purchase_amount'].fillna(df['purchase_amount'].median())\n",
        "    print(\"Filled missing purchase_amount with median value.\")\n",
        "print(\"Missing values after median imputation:\")\n",
        "print(df.isnull().sum())"
      ]
    },
    {
      "cell_type": "markdown",
      "metadata": {
        "id": "n6HTYy70x_un"
      },
      "source": [
        "It seems like we have resolved the missing value issue!"
      ]
    },
    {
      "cell_type": "code",
      "execution_count": null,
      "metadata": {
        "colab": {
          "base_uri": "https://localhost:8080/"
        },
        "id": "EA8MnuuMT8Kc",
        "outputId": "2563c2d1-6a60-40da-9334-b05531cb4198"
      },
      "outputs": [
        {
          "output_type": "stream",
          "name": "stdout",
          "text": [
            "Missing values after mode imputation:\n",
            "customer_id_legacy    0\n",
            "transaction_id        0\n",
            "purchase_amount       0\n",
            "purchase_date         0\n",
            "product_category      0\n",
            "customer_rating       0\n",
            "dtype: int64\n"
          ]
        }
      ],
      "source": [
        "# Mode imputation for categorical column 'product_category'\n",
        "if df['product_category'].isnull().sum() > 0:\n",
        "    df['product_category'] = df['product_category'].fillna(df['product_category'].mode()[0])\n",
        "    print(\"Filled missing product_category with mode value.\")\n",
        "print(\"Missing values after mode imputation:\")\n",
        "print(df.isnull().sum())"
      ]
    },
    {
      "cell_type": "code",
      "execution_count": null,
      "metadata": {
        "colab": {
          "base_uri": "https://localhost:8080/"
        },
        "id": "5khKI6otVvCb",
        "outputId": "b9445ce6-52ad-428d-967e-6b7fd5294e30"
      },
      "outputs": [
        {
          "output_type": "stream",
          "name": "stdout",
          "text": [
            "Applied KNN imputation to customer_rating.\n",
            "Missing values after KNN imputation:\n",
            "customer_id_legacy    0\n",
            "transaction_id        0\n",
            "purchase_amount       0\n",
            "purchase_date         0\n",
            "product_category      0\n",
            "customer_rating       0\n",
            "dtype: int64\n"
          ]
        }
      ],
      "source": [
        "# Predictive modeling (KNN Imputer) for numerical missing values\n",
        "knn_imputer = KNNImputer(n_neighbors=5)\n",
        "df[['customer_rating']] = knn_imputer.fit_transform(df[['customer_rating']])\n",
        "print(\"Applied KNN imputation to customer_rating.\")\n",
        "print(\"Missing values after KNN imputation:\")\n",
        "print(df.isnull().sum())"
      ]
    },
    {
      "cell_type": "markdown",
      "metadata": {
        "id": "vSFHSfnfVx3J"
      },
      "source": [
        "As you can see all the other methods we used after already solving the missing values in customer_rating were just repetitive steps, they didn't return anything or make any changes to our data ! We used them for verifying only."
      ]
    },
    {
      "cell_type": "markdown",
      "metadata": {
        "id": "ngFziS7pyRUT"
      },
      "source": [
        "**Step 3: Data Augmentation Strategies**"
      ]
    },
    {
      "cell_type": "markdown",
      "metadata": {
        "id": "eVGcI0KbyaO4"
      },
      "source": [
        "Synthetic Data Generation Part"
      ]
    },
    {
      "cell_type": "code",
      "execution_count": null,
      "metadata": {
        "colab": {
          "base_uri": "https://localhost:8080/"
        },
        "id": "L8NDNqMJ1xTc",
        "outputId": "d8f76afc-1b7f-4de6-98a0-d548382e072c"
      },
      "outputs": [
        {
          "output_type": "stream",
          "name": "stdout",
          "text": [
            "   purchase_amount\n",
            "0              408\n",
            "1              332\n",
            "2              442\n",
            "3              256\n",
            "4               64\n"
          ]
        }
      ],
      "source": [
        "print(df[['purchase_amount']].head())"
      ]
    },
    {
      "cell_type": "markdown",
      "metadata": {
        "id": "0KZQyDAm5AVu"
      },
      "source": [
        "Applying random noise to numerical transaction values."
      ]
    },
    {
      "cell_type": "code",
      "execution_count": null,
      "metadata": {
        "colab": {
          "base_uri": "https://localhost:8080/"
        },
        "id": "BzML-BoHyb1p",
        "outputId": "20c675ee-0a00-4876-e2d6-f505af0c05f2"
      },
      "outputs": [
        {
          "output_type": "stream",
          "name": "stdout",
          "text": [
            "   purchase_amount\n",
            "0       406.088830\n",
            "1       332.320135\n",
            "2       444.207936\n",
            "3       254.335779\n",
            "4        62.292957\n"
          ]
        }
      ],
      "source": [
        "df['purchase_amount'] = df['purchase_amount'] + np.random.normal(loc=0, scale=5, size=len(df))\n",
        "\n",
        "print(df[['purchase_amount']].head())"
      ]
    },
    {
      "cell_type": "markdown",
      "source": [
        "Checking if dataset is balanced or not"
      ],
      "metadata": {
        "id": "oXuE5UwqlYBC"
      }
    },
    {
      "cell_type": "code",
      "source": [
        "# Check the distribution of the target variable\n",
        "print(df['product_category'].value_counts())\n"
      ],
      "metadata": {
        "colab": {
          "base_uri": "https://localhost:8080/"
        },
        "id": "iFyCv4Ozlb_7",
        "outputId": "69b43e67-55a0-42dc-af1d-c8cef8b18f7a"
      },
      "execution_count": null,
      "outputs": [
        {
          "output_type": "stream",
          "name": "stdout",
          "text": [
            "product_category\n",
            "Sports         35\n",
            "Electronics    34\n",
            "Clothing       28\n",
            "Groceries      28\n",
            "Books          25\n",
            "Name: count, dtype: int64\n"
          ]
        }
      ]
    },
    {
      "cell_type": "markdown",
      "source": [
        "Let's visualize this"
      ],
      "metadata": {
        "id": "yOtMEYGZpAqJ"
      }
    },
    {
      "cell_type": "code",
      "source": [
        "import matplotlib.pyplot as plt\n",
        "\n",
        "df['product_category'].value_counts().plot(kind='bar')\n",
        "plt.title('Class Distribution')\n",
        "plt.xlabel('Product Category')\n",
        "plt.ylabel('Frequency')\n",
        "plt.show()\n"
      ],
      "metadata": {
        "colab": {
          "base_uri": "https://localhost:8080/",
          "height": 533
        },
        "id": "LEXbAL-PoYUz",
        "outputId": "f7720dc6-eb72-4453-80ce-7655e280e4c6"
      },
      "execution_count": null,
      "outputs": [
        {
          "output_type": "display_data",
          "data": {
            "text/plain": [
              "<Figure size 640x480 with 1 Axes>"
            ],
            "image/png": "[encoded data removed]"
          },
          "metadata": {}
        }
      ]
    },
    {
      "cell_type": "markdown",
      "metadata": {
        "id": "suw3tOEz2Qqu"
      },
      "source": [
        "Balancing the Dataset Using SMOTE"
      ]
    },
    {
      "cell_type": "code",
      "execution_count": null,
      "metadata": {
        "colab": {
          "base_uri": "https://localhost:8080/"
        },
        "id": "8aIsBU--2S41",
        "outputId": "d25303a3-0483-4bb1-df05-948cad75439b"
      },
      "outputs": [
        {
          "output_type": "stream",
          "name": "stdout",
          "text": [
            "product_category\n",
            "Sports         35\n",
            "Electronics    35\n",
            "Clothing       35\n",
            "Groceries      35\n",
            "Books          35\n",
            "Name: count, dtype: int64\n"
          ]
        }
      ],
      "source": [
        "from imblearn.over_sampling import SMOTE\n",
        "\n",
        "# Defining features (X) and target (y)\n",
        "X = df[['purchase_amount']]\n",
        "y = df['product_category']\n",
        "\n",
        "# Applying SMOTE\n",
        "smote = SMOTE(sampling_strategy='auto', random_state=42)\n",
        "X_resampled, y_resampled = smote.fit_resample(X, y)\n",
        "\n",
        "# Creating new balanced DataFrame\n",
        "df_resampled = pd.DataFrame(X_resampled, columns=['purchase_amount'])\n",
        "df_resampled['product_category'] = y_resampled\n",
        "\n",
        "# Verifying class distribution\n",
        "print(df_resampled['product_category'].value_counts())\n"
      ]
    },
    {
      "cell_type": "code",
      "source": [
        "import matplotlib.pyplot as plt\n",
        "\n",
        "# Plotting the distribution of the target variable in the resampled dataset\n",
        "df_resampled['product_category'].value_counts().plot(kind='bar')\n",
        "plt.title('Class Distribution After SMOTE')\n",
        "plt.xlabel('Product Category')\n",
        "plt.ylabel('Frequency')\n",
        "plt.show()\n"
      ],
      "metadata": {
        "colab": {
          "base_uri": "https://localhost:8080/",
          "height": 533
        },
        "id": "rmaUwZjKoP73",
        "outputId": "34fdb4a2-f3df-44a3-9e50-c874bb849f35"
      },
      "execution_count": null,
      "outputs": [
        {
          "output_type": "display_data",
          "data": {
            "text/plain": [
              "<Figure size 640x480 with 1 Axes>"
            ],
            "image/png": "[encoded data removed]"
          },
          "metadata": {}
        }
      ]
    },
    {
      "cell_type": "markdown",
      "metadata": {
        "id": "4Tbpl6rp3Wwj"
      },
      "source": [
        "Applying Log Transformation (Feature Value Transformation)"
      ]
    },
    {
      "cell_type": "code",
      "execution_count": null,
      "metadata": {
        "colab": {
          "base_uri": "https://localhost:8080/",
          "height": 206
        },
        "id": "LKc5Ey5b3PBM",
        "outputId": "b0e4378b-03a7-4484-a740-8f279fcbfc20"
      },
      "outputs": [
        {
          "output_type": "execute_result",
          "data": {
            "text/plain": [
              "   purchase_amount  log_purchase_amount\n",
              "0       406.088830             6.009031\n",
              "1       332.320135             5.809103\n",
              "2       444.207936             6.098541\n",
              "3       254.335779             5.542579\n",
              "4        62.292957             4.147774"
            ],
            "text/html": [
              "\n",
              "  <div id=\"df-c900e132-01c2-4baa-8132-2aca8e05b20d\" class=\"colab-df-container\">\n",
              "    <div>\n",
              "<style scoped>\n",
              "    .dataframe tbody tr th:only-of-type {\n",
              "        vertical-align: middle;\n",
              "    }\n",
              "\n",
              "    .dataframe tbody tr th {\n",
              "        vertical-align: top;\n",
              "    }\n",
              "\n",
              "    .dataframe thead th {\n",
              "        text-align: right;\n",
              "    }\n",
              "</style>\n",
              "<table border=\"1\" class=\"dataframe\">\n",
              "  <thead>\n",
              "    <tr style=\"text-align: right;\">\n",
              "      <th></th>\n",
              "      <th>purchase_amount</th>\n",
              "      <th>log_purchase_amount</th>\n",
              "    </tr>\n",
              "  </thead>\n",
              "  <tbody>\n",
              "    <tr>\n",
              "      <th>0</th>\n",
              "      <td>406.088830</td>\n",
              "      <td>6.009031</td>\n",
              "    </tr>\n",
              "    <tr>\n",
              "      <th>1</th>\n",
              "      <td>332.320135</td>\n",
              "      <td>5.809103</td>\n",
              "    </tr>\n",
              "    <tr>\n",
              "      <th>2</th>\n",
              "      <td>444.207936</td>\n",
              "      <td>6.098541</td>\n",
              "    </tr>\n",
              "    <tr>\n",
              "      <th>3</th>\n",
              "      <td>254.335779</td>\n",
              "      <td>5.542579</td>\n",
              "    </tr>\n",
              "    <tr>\n",
              "      <th>4</th>\n",
              "      <td>62.292957</td>\n",
              "      <td>4.147774</td>\n",
              "    </tr>\n",
              "  </tbody>\n",
              "</table>\n",
              "</div>\n",
              "    <div class=\"colab-df-buttons\">\n",
              "\n",
              "  <div class=\"colab-df-container\">\n",
              "    <button class=\"colab-df-convert\" onclick=\"convertToInteractive('df-c900e132-01c2-4baa-8132-2aca8e05b20d')\"\n",
              "            title=\"Convert this dataframe to an interactive table.\"\n",
              "            style=\"display:none;\">\n",
              "\n",
              "  <svg xmlns=\"http://www.w3.org/2000/svg\" height=\"24px\" viewBox=\"0 -960 960 960\">\n",
              "    <path d=\"M120-120v-720h720v720H120Zm60-500h600v-160H180v160Zm220 220h160v-160H400v160Zm0 220h160v-160H400v160ZM180-400h160v-160H180v160Zm440 0h160v-160H620v160ZM180-180h160v-160H180v160Zm440 0h160v-160H620v160Z\"/>\n",
              "  </svg>\n",
              "    </button>\n",
              "\n",
              "  <style>\n",
              "    .colab-df-container {\n",
              "      display:flex;\n",
              "      gap: 12px;\n",
              "    }\n",
              "\n",
              "    .colab-df-convert {\n",
              "      background-color: #E8F0FE;\n",
              "      border: none;\n",
              "      border-radius: 50%;\n",
              "      cursor: pointer;\n",
              "      display: none;\n",
              "      fill: #1967D2;\n",
              "      height: 32px;\n",
              "      padding: 0 0 0 0;\n",
              "      width: 32px;\n",
              "    }\n",
              "\n",
              "    .colab-df-convert:hover {\n",
              "      background-color: #E2EBFA;\n",
              "      box-shadow: 0px 1px 2px rgba(60, 64, 67, 0.3), 0px 1px 3px 1px rgba(60, 64, 67, 0.15);\n",
              "      fill: #174EA6;\n",
              "    }\n",
              "\n",
              "    .colab-df-buttons div {\n",
              "      margin-bottom: 4px;\n",
              "    }\n",
              "\n",
              "    [theme=dark] .colab-df-convert {\n",
              "      background-color: #3B4455;\n",
              "      fill: #D2E3FC;\n",
              "    }\n",
              "\n",
              "    [theme=dark] .colab-df-convert:hover {\n",
              "      background-color: #434B5C;\n",
              "      box-shadow: 0px 1px 3px 1px rgba(0, 0, 0, 0.15);\n",
              "      filter: drop-shadow(0px 1px 2px rgba(0, 0, 0, 0.3));\n",
              "      fill: #FFFFFF;\n",
              "    }\n",
              "  </style>\n",
              "\n",
              "    <script>\n",
              "      const buttonEl =\n",
              "        document.querySelector('#df-c900e132-01c2-4baa-8132-2aca8e05b20d button.colab-df-convert');\n",
              "      buttonEl.style.display =\n",
              "        google.colab.kernel.accessAllowed ? 'block' : 'none';\n",
              "\n",
              "      async function convertToInteractive(key) {\n",
              "        const element = document.querySelector('#df-c900e132-01c2-4baa-8132-2aca8e05b20d');\n",
              "        const dataTable =\n",
              "          await google.colab.kernel.invokeFunction('convertToInteractive',\n",
              "                                                    [key], {});\n",
              "        if (!dataTable) return;\n",
              "\n",
              "        const docLinkHtml = 'Like what you see? Visit the ' +\n",
              "          '<a target=\"_blank\" href=https://colab.research.google.com/notebooks/data_table.ipynb>data table notebook</a>'\n",
              "          + ' to learn more about interactive tables.';\n",
              "        element.innerHTML = '';\n",
              "        dataTable['output_type'] = 'display_data';\n",
              "        await google.colab.output.renderOutput(dataTable, element);\n",
              "        const docLink = document.createElement('div');\n",
              "        docLink.innerHTML = docLinkHtml;\n",
              "        element.appendChild(docLink);\n",
              "      }\n",
              "    </script>\n",
              "  </div>\n",
              "\n",
              "\n",
              "<div id=\"df-5938d326-175f-4383-9b86-6463425b6f2d\">\n",
              "  <button class=\"colab-df-quickchart\" onclick=\"quickchart('df-5938d326-175f-4383-9b86-6463425b6f2d')\"\n",
              "            title=\"Suggest charts\"\n",
              "            style=\"display:none;\">\n",
              "\n",
              "<svg xmlns=\"http://www.w3.org/2000/svg\" height=\"24px\"viewBox=\"0 0 24 24\"\n",
              "     width=\"24px\">\n",
              "    <g>\n",
              "        <path d=\"M19 3H5c-1.1 0-2 .9-2 2v14c0 1.1.9 2 2 2h14c1.1 0 2-.9 2-2V5c0-1.1-.9-2-2-2zM9 17H7v-7h2v7zm4 0h-2V7h2v10zm4 0h-2v-4h2v4z\"/>\n",
              "    </g>\n",
              "</svg>\n",
              "  </button>\n",
              "\n",
              "<style>\n",
              "  .colab-df-quickchart {\n",
              "      --bg-color: #E8F0FE;\n",
              "      --fill-color: #1967D2;\n",
              "      --hover-bg-color: #E2EBFA;\n",
              "      --hover-fill-color: #174EA6;\n",
              "      --disabled-fill-color: #AAA;\n",
              "      --disabled-bg-color: #DDD;\n",
              "  }\n",
              "\n",
              "  [theme=dark] .colab-df-quickchart {\n",
              "      --bg-color: #3B4455;\n",
              "      --fill-color: #D2E3FC;\n",
              "      --hover-bg-color: #434B5C;\n",
              "      --hover-fill-color: #FFFFFF;\n",
              "      --disabled-bg-color: #3B4455;\n",
              "      --disabled-fill-color: #666;\n",
              "  }\n",
              "\n",
              "  .colab-df-quickchart {\n",
              "    background-color: var(--bg-color);\n",
              "    border: none;\n",
              "    border-radius: 50%;\n",
              "    cursor: pointer;\n",
              "    display: none;\n",
              "    fill: var(--fill-color);\n",
              "    height: 32px;\n",
              "    padding: 0;\n",
              "    width: 32px;\n",
              "  }\n",
              "\n",
              "  .colab-df-quickchart:hover {\n",
              "    background-color: var(--hover-bg-color);\n",
              "    box-shadow: 0 1px 2px rgba(60, 64, 67, 0.3), 0 1px 3px 1px rgba(60, 64, 67, 0.15);\n",
              "    fill: var(--button-hover-fill-color);\n",
              "  }\n",
              "\n",
              "  .colab-df-quickchart-complete:disabled,\n",
              "  .colab-df-quickchart-complete:disabled:hover {\n",
              "    background-color: var(--disabled-bg-color);\n",
              "    fill: var(--disabled-fill-color);\n",
              "    box-shadow: none;\n",
              "  }\n",
              "\n",
              "  .colab-df-spinner {\n",
              "    border: 2px solid var(--fill-color);\n",
              "    border-color: transparent;\n",
              "    border-bottom-color: var(--fill-color);\n",
              "    animation:\n",
              "      spin 1s steps(1) infinite;\n",
              "  }\n",
              "\n",
              "  @keyframes spin {\n",
              "    0% {\n",
              "      border-color: transparent;\n",
              "      border-bottom-color: var(--fill-color);\n",
              "      border-left-color: var(--fill-color);\n",
              "    }\n",
              "    20% {\n",
              "      border-color: transparent;\n",
              "      border-left-color: var(--fill-color);\n",
              "      border-top-color: var(--fill-color);\n",
              "    }\n",
              "    30% {\n",
              "      border-color: transparent;\n",
              "      border-left-color: var(--fill-color);\n",
              "      border-top-color: var(--fill-color);\n",
              "      border-right-color: var(--fill-color);\n",
              "    }\n",
              "    40% {\n",
              "      border-color: transparent;\n",
              "      border-right-color: var(--fill-color);\n",
              "      border-top-color: var(--fill-color);\n",
              "    }\n",
              "    60% {\n",
              "      border-color: transparent;\n",
              "      border-right-color: var(--fill-color);\n",
              "    }\n",
              "    80% {\n",
              "      border-color: transparent;\n",
              "      border-right-color: var(--fill-color);\n",
              "      border-bottom-color: var(--fill-color);\n",
              "    }\n",
              "    90% {\n",
              "      border-color: transparent;\n",
              "      border-bottom-color: var(--fill-color);\n",
              "    }\n",
              "  }\n",
              "</style>\n",
              "\n",
              "  <script>\n",
              "    async function quickchart(key) {\n",
              "      const quickchartButtonEl =\n",
              "        document.querySelector('#' + key + ' button');\n",
              "      quickchartButtonEl.disabled = true;  // To prevent multiple clicks.\n",
              "      quickchartButtonEl.classList.add('colab-df-spinner');\n",
              "      try {\n",
              "        const charts = await google.colab.kernel.invokeFunction(\n",
              "            'suggestCharts', [key], {});\n",
              "      } catch (error) {\n",
              "        console.error('Error during call to suggestCharts:', error);\n",
              "      }\n",
              "      quickchartButtonEl.classList.remove('colab-df-spinner');\n",
              "      quickchartButtonEl.classList.add('colab-df-quickchart-complete');\n",
              "    }\n",
              "    (() => {\n",
              "      let quickchartButtonEl =\n",
              "        document.querySelector('#df-5938d326-175f-4383-9b86-6463425b6f2d button');\n",
              "      quickchartButtonEl.style.display =\n",
              "        google.colab.kernel.accessAllowed ? 'block' : 'none';\n",
              "    })();\n",
              "  </script>\n",
              "</div>\n",
              "\n",
              "    </div>\n",
              "  </div>\n"
            ],
            "application/vnd.google.colaboratory.intrinsic+json": {
              "type": "dataframe",
              "summary": "{\n  \"name\": \"df[['purchase_amount', 'log_purchase_amount']]\",\n  \"rows\": 5,\n  \"fields\": [\n    {\n      \"column\": \"purchase_amount\",\n      \"properties\": {\n        \"dtype\": \"number\",\n        \"std\": 151.39774220977804,\n        \"min\": 62.292956897710475,\n        \"max\": 444.20793604566086,\n        \"num_unique_values\": 5,\n        \"samples\": [\n          332.3201349883138,\n          62.292956897710475,\n          444.20793604566086\n        ],\n        \"semantic_type\": \"\",\n        \"description\": \"\"\n      }\n    },\n    {\n      \"column\": \"log_purchase_amount\",\n      \"properties\": {\n        \"dtype\": \"number\",\n        \"std\": 0.7970173600682046,\n        \"min\": 4.147774057520659,\n        \"max\": 6.098541445041391,\n        \"num_unique_values\": 5,\n        \"samples\": [\n          5.8091033944950645,\n          4.147774057520659,\n          6.098541445041391\n        ],\n        \"semantic_type\": \"\",\n        \"description\": \"\"\n      }\n    }\n  ]\n}"
            }
          },
          "metadata": {},
          "execution_count": 118
        }
      ],
      "source": [
        "# Applying log transformation to 'purchase_amount' to reduce skewness\n",
        "df['log_purchase_amount'] = np.log1p(df['purchase_amount'])\n",
        "\n",
        "# Verifying transformation\n",
        "df[['purchase_amount', 'log_purchase_amount']].head()\n"
      ]
    },
    {
      "cell_type": "markdown",
      "metadata": {
        "id": "E0TGuTNg3lgp"
      },
      "source": [
        "Generating New Synthetic Transactions to expand our dataset"
      ]
    },
    {
      "cell_type": "code",
      "execution_count": null,
      "metadata": {
        "colab": {
          "base_uri": "https://localhost:8080/"
        },
        "id": "kRYabwIL3qwA",
        "outputId": "3de693d5-64b2-47aa-d9be-51e5d0ec899a"
      },
      "outputs": [
        {
          "output_type": "stream",
          "name": "stdout",
          "text": [
            "Original dataset size: 150\n",
            "New dataset size after augmentation: 650\n"
          ]
        }
      ],
      "source": [
        "# Generating synthetic transactions by duplicating and adding noise\n",
        "num_synthetic = 500\n",
        "synthetic_data = df.sample(num_synthetic, replace=True)\n",
        "\n",
        "# Applying random noise\n",
        "synthetic_data['purchase_amount'] += np.random.normal(0, 5, size=num_synthetic)\n",
        "\n",
        "# Appending to original DataFrame\n",
        "df_augmented = pd.concat([df, synthetic_data], ignore_index=True)\n",
        "\n",
        "# Verifying new dataset size\n",
        "print(\"Original dataset size:\", len(df))\n",
        "print(\"New dataset size after augmentation:\", len(df_augmented))\n"
      ]
    },
    {
      "cell_type": "markdown",
      "metadata": {
        "id": "s-8jbE4134M7"
      },
      "source": [
        "Now that we have managed to successfully expand our dataset, let's save it!"
      ]
    },
    {
      "cell_type": "code",
      "execution_count": null,
      "metadata": {
        "id": "O6G859iG3_uJ"
      },
      "outputs": [],
      "source": [
        "# Saving cleaned & augmented dataset\n",
        "df_augmented.to_csv(\"customer_transactions_augmented.csv\", index=False)\n"
      ]
    }
  ],
  "metadata": {
    "colab": {
      "provenance": []
    },
    "kernelspec": {
      "display_name": "Python 3",
      "name": "python3"
    },
    "language_info": {
      "name": "python"
    }
  },
  "nbformat": 4,
  "nbformat_minor": 0
}